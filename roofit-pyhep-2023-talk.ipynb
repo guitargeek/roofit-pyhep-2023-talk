{
 "cells": [
  {
   "cell_type": "markdown",
   "id": "0867123d-c931-494d-bac5-fe90f4dabeb5",
   "metadata": {
    "slideshow": {
     "slide_type": "slide"
    }
   },
   "source": [
    "# Bridging RooFit and SymPy with applications in amplitude analysis\n",
    "\n",
    "Jonas Rembser\n",
    "PyHEP 2023"
   ]
  },
  {
   "cell_type": "markdown",
   "id": "52a7ba95",
   "metadata": {
    "slideshow": {
     "slide_type": "slide"
    }
   },
   "source": [
    "## Overview\n",
    "\n",
    "* Introduction to RooFit\n",
    "* Existing Python interoperability in RooFit\n",
    "* **New:** Improvements in defining custom pdfs on-the-fly\n",
    "* Defining custom pdfs from [SymPy](https://www.sympy.org/en/index.html) expressions\n",
    "* Possible application in amplitude analysis\n",
    "* Conclusions and possible next steps\n",
    "\n",
    "**Note:** ROOT `master` is required to run this code, but soon it will be possible with ROOT 6.30.00 when released."
   ]
  },
  {
   "cell_type": "markdown",
   "id": "9de75db0",
   "metadata": {
    "slideshow": {
     "slide_type": "slide"
    }
   },
   "source": [
    "## Introduction to RooFit"
   ]
  },
  {
   "cell_type": "markdown",
   "id": "0b96a380",
   "metadata": {},
   "source": [
    "RooFit is a library for statistical data modelling that is part of ROOT.\n",
    "\n",
    "You can use it to build complicated models from simple building blocks, sample toy data and do fits:"
   ]
  },
  {
   "cell_type": "code",
   "execution_count": 1,
   "id": "27a7e125",
   "metadata": {},
   "outputs": [
    {
     "name": "stdout",
     "output_type": "stream",
     "text": [
      "Welcome to JupyROOT 6.31/01\n"
     ]
    }
   ],
   "source": [
    "import ROOT\n",
    "\n",
    "# Disable RooFit logging for presentation\n",
    "change_msg_lvl = ROOT.RooHelpers.LocalChangeMsgLevel(ROOT.RooFit.WARNING)"
   ]
  },
  {
   "cell_type": "markdown",
   "id": "ba64fa6c",
   "metadata": {},
   "source": [
    "**Example -** convolution of Landau with Gaussian:"
   ]
  },
  {
   "cell_type": "code",
   "execution_count": 2,
   "id": "8ab30fec",
   "metadata": {},
   "outputs": [],
   "source": [
    "worksp = ROOT.RooWorkspace()\n",
    "\n",
    "worksp.factory(\"Landau::lx(t[-10., 30], ml[5.0, -20, 20], sl[1, 0.1, 10])\")\n",
    "worksp.factory(\"Gaussian::gauss(t, mg[0.], sg[2, 0.1, 10])\")\n",
    "worksp.factory(\"RooFFTConvPdf::lxg(t, lx, gauss)\")\n",
    "\n",
    "# Set #bins to be used for FFT sampling to 10000\n",
    "worksp[\"t\"].setBins(10000, \"cache\")"
   ]
  },
  {
   "cell_type": "markdown",
   "id": "c55538e6",
   "metadata": {
    "slideshow": {
     "slide_type": "slide"
    }
   },
   "source": [
    "Sample 10000 events and fit to this toy dataset:"
   ]
  },
  {
   "cell_type": "code",
   "execution_count": 3,
   "id": "02d9f464",
   "metadata": {},
   "outputs": [
    {
     "name": "stdout",
     "output_type": "stream",
     "text": [
      "\n",
      "  RooFitResult: minimized FCN value: 28280.5, estimated distance to minimum: 0.000378843\n",
      "                covariance matrix quality: Full, accurate covariance matrix\n",
      "                Status : MINIMIZE=0 HESSE=0 \n",
      "\n",
      "    Floating Parameter    FinalValue +/-  Error   \n",
      "  --------------------  --------------------------\n",
      "                    ml    4.8882e+00 +/-  3.71e-02\n",
      "                    sg    1.8974e+00 +/-  4.64e-02\n",
      "                    sl    1.0301e+00 +/-  2.93e-02\n",
      "\n"
     ]
    }
   ],
   "source": [
    "data = worksp[\"lxg\"].generate({worksp[\"t\"]}, 10000)\n",
    "\n",
    "worksp[\"lxg\"].fitTo(data, PrintLevel=-1, Save=True).Print()"
   ]
  },
  {
   "cell_type": "markdown",
   "id": "b5bb4b1d",
   "metadata": {
    "slideshow": {
     "slide_type": "slide"
    }
   },
   "source": [
    "Plotting:"
   ]
  },
  {
   "cell_type": "code",
   "execution_count": 4,
   "id": "1277dedb",
   "metadata": {},
   "outputs": [
    {
     "name": "stderr",
     "output_type": "stream",
     "text": [
      "Info in <TCanvas::MakeDefCanvas>:  created default TCanvas with name c1\n"
     ]
    },
    {
     "data": {
      "image/png": "[encoded data removed]",
      "text/plain": [
       "<IPython.core.display.Image object>"
      ]
     },
     "metadata": {},
     "output_type": "display_data"
    }
   ],
   "source": [
    "frame = worksp[\"t\"].frame(Title=\"landau (x) gauss convolution\")\n",
    "data.plotOn(frame)\n",
    "worksp[\"lxg\"].plotOn(frame)\n",
    "worksp[\"lx\"].plotOn(frame, LineStyle=\"--\")\n",
    "frame.Draw()\n",
    "ROOT.gPad.Draw()"
   ]
  },
  {
   "cell_type": "markdown",
   "id": "5fc2aa93",
   "metadata": {
    "slideshow": {
     "slide_type": "slide"
    }
   },
   "source": [
    "### Python interoperability\n",
    "\n",
    "RooFit has some extra functions in PyROOT for interoperabilty, like `to_pandas/numpy` and `from_pandas/numpy` for RooFit datasets. Example:"
   ]
  },
  {
   "cell_type": "code",
   "execution_count": 5,
   "id": "815b0c00",
   "metadata": {},
   "outputs": [
    {
     "data": {
      "text/html": [
       "<div>\n",
       "<style scoped>\n",
       "    .dataframe tbody tr th:only-of-type {\n",
       "        vertical-align: middle;\n",
       "    }\n",
       "\n",
       "    .dataframe tbody tr th {\n",
       "        vertical-align: top;\n",
       "    }\n",
       "\n",
       "    .dataframe thead th {\n",
       "        text-align: right;\n",
       "    }\n",
       "</style>\n",
       "<table border=\"1\" class=\"dataframe\">\n",
       "  <thead>\n",
       "    <tr style=\"text-align: right;\">\n",
       "      <th></th>\n",
       "      <th>t</th>\n",
       "    </tr>\n",
       "  </thead>\n",
       "  <tbody>\n",
       "    <tr>\n",
       "      <th>0</th>\n",
       "      <td>6.302545</td>\n",
       "    </tr>\n",
       "    <tr>\n",
       "      <th>1</th>\n",
       "      <td>6.904973</td>\n",
       "    </tr>\n",
       "    <tr>\n",
       "      <th>2</th>\n",
       "      <td>0.427351</td>\n",
       "    </tr>\n",
       "    <tr>\n",
       "      <th>3</th>\n",
       "      <td>9.532097</td>\n",
       "    </tr>\n",
       "    <tr>\n",
       "      <th>4</th>\n",
       "      <td>4.340893</td>\n",
       "    </tr>\n",
       "    <tr>\n",
       "      <th>...</th>\n",
       "      <td>...</td>\n",
       "    </tr>\n",
       "    <tr>\n",
       "      <th>9995</th>\n",
       "      <td>13.477871</td>\n",
       "    </tr>\n",
       "    <tr>\n",
       "      <th>9996</th>\n",
       "      <td>6.471149</td>\n",
       "    </tr>\n",
       "    <tr>\n",
       "      <th>9997</th>\n",
       "      <td>5.812208</td>\n",
       "    </tr>\n",
       "    <tr>\n",
       "      <th>9998</th>\n",
       "      <td>7.409787</td>\n",
       "    </tr>\n",
       "    <tr>\n",
       "      <th>9999</th>\n",
       "      <td>4.416721</td>\n",
       "    </tr>\n",
       "  </tbody>\n",
       "</table>\n",
       "<p>10000 rows × 1 columns</p>\n",
       "</div>"
      ],
      "text/plain": [
       "              t\n",
       "0      6.302545\n",
       "1      6.904973\n",
       "2      0.427351\n",
       "3      9.532097\n",
       "4      4.340893\n",
       "...         ...\n",
       "9995  13.477871\n",
       "9996   6.471149\n",
       "9997   5.812208\n",
       "9998   7.409787\n",
       "9999   4.416721\n",
       "\n",
       "[10000 rows x 1 columns]"
      ]
     },
     "execution_count": 5,
     "metadata": {},
     "output_type": "execute_result"
    }
   ],
   "source": [
    "data.to_pandas()"
   ]
  },
  {
   "cell_type": "markdown",
   "id": "ddd3173a-d629-484f-922a-944544229c08",
   "metadata": {},
   "source": [
    "More examples in [this tutorial](https://root.cern.ch/doc/master/rf409__NumPyPandasToRooFit_8py.html)."
   ]
  },
  {
   "cell_type": "markdown",
   "id": "c9ac39ce",
   "metadata": {
    "slideshow": {
     "slide_type": "slide"
    }
   },
   "source": [
    "## Defining custom pdfs interactively\n",
    "\n",
    "There are three different ways to implement custom pdfs:\n",
    "\n",
    "1) Implement your own C++ class"
   ]
  },
  {
   "cell_type": "markdown",
   "id": "c62ca16c",
   "metadata": {
    "slideshow": {
     "slide_type": "fragment"
    }
   },
   "source": [
    "2) With `RooGenericPdf` or `EXPR` command in RooWorkspace (will be jitted by ROOT interpreter)"
   ]
  },
  {
   "cell_type": "code",
   "execution_count": 6,
   "id": "ff48ab08",
   "metadata": {},
   "outputs": [],
   "source": [
    "ws = ROOT.RooWorkspace()\n",
    "ws.factory(f\"EXPR::gauss_1('exp(-0.5*(x - mu)*(x - mu))', x[0., 10.], mu[5., 0., 10.])\");"
   ]
  },
  {
   "cell_type": "markdown",
   "id": "30b02c94",
   "metadata": {
    "slideshow": {
     "slide_type": "fragment"
    }
   },
   "source": [
    "3) With the `RooClassFactory` or `CEXPR` in the workspace (C++ code will be written to disc and compiled on-the-fly)"
   ]
  },
  {
   "cell_type": "code",
   "execution_count": 7,
   "id": "34a29ee8",
   "metadata": {},
   "outputs": [
    {
     "name": "stderr",
     "output_type": "stream",
     "text": [
      "Info in <TUnixSystem::ACLiC>: creating shared library /home/rembserj/tmp/pyhep/roofit-pyhep-2023-talk/RooCFAuto000Pdf_cxx.so\n"
     ]
    }
   ],
   "source": [
    "ws.factory(f\"CEXPR::gauss_2('exp(-0.5*(x - mu)*(x - mu))', x, mu)\");"
   ]
  },
  {
   "cell_type": "markdown",
   "id": "9acc8e67",
   "metadata": {
    "slideshow": {
     "slide_type": "slide"
    }
   },
   "source": [
    "## What if the expressions become complicated?\n",
    "\n",
    "1. You can build pdfs in a modular way with RooFit classes like `RooAddPdf` etc.\n",
    "\n",
    "2. Alternative approach presented today: build expression tree with a different Python library (SymPy) and import to RooFit"
   ]
  },
  {
   "cell_type": "code",
   "execution_count": 8,
   "id": "f8b08ae1",
   "metadata": {
    "slideshow": {
     "slide_type": "fragment"
    }
   },
   "outputs": [],
   "source": [
    "import sympy as sp\n",
    "import numpy as np\n",
    "import matplotlib.pyplot as plt"
   ]
  },
  {
   "cell_type": "markdown",
   "id": "e926deef",
   "metadata": {
    "slideshow": {
     "slide_type": "fragment"
    }
   },
   "source": [
    "Define SymPy symbols:"
   ]
  },
  {
   "cell_type": "code",
   "execution_count": 9,
   "id": "3d43605c-0e95-4a0f-b7be-dcb86781f3b7",
   "metadata": {},
   "outputs": [],
   "source": [
    "x, mu = sp.symbols('x mu')"
   ]
  },
  {
   "cell_type": "markdown",
   "id": "a2aa4059",
   "metadata": {
    "slideshow": {
     "slide_type": "fragment"
    }
   },
   "source": [
    "Define Gaussian as SymPy expression tree:"
   ]
  },
  {
   "cell_type": "code",
   "execution_count": 10,
   "id": "37b6f193-f8f2-4a62-8b4c-251f2703de15",
   "metadata": {},
   "outputs": [
    {
     "data": {
      "text/latex": [
       "$\\displaystyle e^{- 0.5 \\left(- \\mu + x\\right)^{2}}$"
      ],
      "text/plain": [
       "exp(-0.5*(-mu + x)**2)"
      ]
     },
     "execution_count": 10,
     "metadata": {},
     "output_type": "execute_result"
    }
   ],
   "source": [
    "gauss = sp.exp(-0.5*(x - mu)**2)\n",
    "gauss"
   ]
  },
  {
   "cell_type": "markdown",
   "id": "4b6c94a3",
   "metadata": {
    "slideshow": {
     "slide_type": "slide"
    }
   },
   "source": [
    "### Back to RooFit land"
   ]
  },
  {
   "cell_type": "markdown",
   "id": "7a8fece4",
   "metadata": {
    "slideshow": {
     "slide_type": "fragment"
    }
   },
   "source": [
    "The SymPy expression can be exported to C code!"
   ]
  },
  {
   "cell_type": "code",
   "execution_count": 11,
   "id": "b7b535f0",
   "metadata": {},
   "outputs": [
    {
     "data": {
      "text/plain": [
       "'exp(-0.5*pow(-mu + x, 2))'"
      ]
     },
     "execution_count": 11,
     "metadata": {},
     "output_type": "execute_result"
    }
   ],
   "source": [
    "c_code = sp.ccode(gauss)\n",
    "c_code"
   ]
  },
  {
   "cell_type": "markdown",
   "id": "223d880a",
   "metadata": {
    "slideshow": {
     "slide_type": "fragment"
    }
   },
   "source": [
    "Import this as a custom RooFit pdf to use with other RooFit classes and algorithms:"
   ]
  },
  {
   "cell_type": "code",
   "execution_count": 12,
   "id": "99fc807f-7b46-4de6-a025-5ac0b4f40c29",
   "metadata": {},
   "outputs": [
    {
     "name": "stderr",
     "output_type": "stream",
     "text": [
      "Info in <TUnixSystem::ACLiC>: creating shared library /home/rembserj/tmp/pyhep/roofit-pyhep-2023-talk/RooCFAuto001Pdf_cxx.so\n"
     ]
    }
   ],
   "source": [
    "ws = ROOT.RooWorkspace()\n",
    "ws.factory(f\"CEXPR::gauss('{c_code}', x[0., 10.], mu[5., 0., 10.])\");"
   ]
  },
  {
   "cell_type": "code",
   "execution_count": 13,
   "id": "c9a34719",
   "metadata": {
    "slideshow": {
     "slide_type": "fragment"
    }
   },
   "outputs": [
    {
     "name": "stdout",
     "output_type": "stream",
     "text": [
      "\n",
      "RooWorkspace()  contents\n",
      "\n",
      "variables\n",
      "---------\n",
      "(mu,x)\n",
      "\n",
      "p.d.f.s\n",
      "-------\n",
      "RooCFAuto001Pdf::gauss[ x=x mu=mu ] = 1\n",
      "\n",
      "embedded class code\n",
      "-------------------\n",
      "RooCFAuto001Pdf\n",
      "\n"
     ]
    }
   ],
   "source": [
    "ws.Print()"
   ]
  },
  {
   "cell_type": "markdown",
   "id": "fcb1b824",
   "metadata": {
    "slideshow": {
     "slide_type": "slide"
    }
   },
   "source": [
    "### Creating an NLL object with AD support"
   ]
  },
  {
   "cell_type": "markdown",
   "id": "e2e53011",
   "metadata": {
    "slideshow": {
     "slide_type": "-"
    }
   },
   "source": [
    "We can for example use it to create an NLL object that also can return the gradient. This is done with RooFits new `\"codegen\"` evaluation backend for [RooAbsPdf::createNLL()](https://root.cern.ch/doc/master/classRooAbsPdf.html#a24b1afec4fd149e08967eac4285800de).\n",
    "\n",
    "This **highly experimental** backend generates simple C++ code for the NLL on the fly, and generates the gradient code from that with the [Clad](https://github.com/vgvassilev/clad) compiler plugin (more detail at this [CHEP 2023](https://indico.jlab.org/event/459/contributions/11581/) talk)."
   ]
  },
  {
   "cell_type": "code",
   "execution_count": 14,
   "id": "985972cc-da80-425f-b321-dec2f7b26c43",
   "metadata": {
    "slideshow": {
     "slide_type": "-"
    }
   },
   "outputs": [
    {
     "name": "stderr",
     "output_type": "stream",
     "text": [
      "input_line_186:12:51: warning: expression result unused [-Wunused-value]\n",
      "      gauss_Int_x_Result +=  + roo_func_wrapper_0(tmpVar0, tmpVar0);\n",
      "                                                  ^~~~~~~\n",
      "input_line_186:12:60: warning: expression result unused [-Wunused-value]\n",
      "      gauss_Int_x_Result +=  + roo_func_wrapper_0(tmpVar0, tmpVar0);\n",
      "                                                           ^~~~~~~\n"
     ]
    }
   ],
   "source": [
    "data = ws[\"gauss\"].generate(ws[\"x\"], 100)\n",
    "nll = ws[\"gauss\"].createNLL(data, EvalBackend=\"codegen\")"
   ]
  },
  {
   "cell_type": "markdown",
   "id": "0f1460ee",
   "metadata": {
    "slideshow": {
     "slide_type": "slide"
    }
   },
   "source": [
    "We can for example do likelihood scans with this NLL object:"
   ]
  },
  {
   "cell_type": "code",
   "execution_count": 15,
   "id": "cdd3b0ff-a186-4cd8-9420-eb83faa88b1b",
   "metadata": {},
   "outputs": [
    {
     "data": {
      "image/png": "[encoded data removed]",
      "text/plain": [
       "<Figure size 640x480 with 1 Axes>"
      ]
     },
     "metadata": {},
     "output_type": "display_data"
    }
   ],
   "source": [
    "mu_vals = np.linspace(0.0, 10.0, 200)\n",
    "nll_vals = np.zeros_like(mu_vals)\n",
    "nll_grad_vals = np.zeros_like(mu_vals)\n",
    "\n",
    "nll_grad_out = np.zeros(1)\n",
    "for i, v in enumerate(mu_vals):\n",
    "    ws[\"mu\"].setVal(v)\n",
    "    nll_vals[i] = nll.getVal()\n",
    "\n",
    "    # The experimental interface here will be improved in the future:\n",
    "    nll_grad_out[0] = 0.0\n",
    "    nll.gradient(nll_grad_out)\n",
    "    nll_grad_vals[i] = nll_grad_out[0]\n",
    "    \n",
    "plt.plot(mu_vals, nll_vals, label=\"NLL\")\n",
    "plt.plot(mu_vals, nll_grad_vals, label=\"derivative\")\n",
    "plt.legend()\n",
    "plt.xlabel(\"mu\")\n",
    "plt.ylabel(\"NLL\")\n",
    "plt.show()"
   ]
  },
  {
   "cell_type": "markdown",
   "id": "29138372",
   "metadata": {
    "slideshow": {
     "slide_type": "slide"
    }
   },
   "source": [
    "## Possible application in amplitude analysis"
   ]
  },
  {
   "cell_type": "markdown",
   "id": "882546cb",
   "metadata": {},
   "source": [
    "This approach unlocks more usecase for RooFit!\n",
    "\n",
    "For example, when using the nice [qrules](https://qrules.readthedocs.io/en/stable/usage.html#main-interface) and [ampform](https://ampform.readthedocs.io/en/stable/) packages from the ComPWA project, which builds complicated amplitudes as SymPy expression (taken from [this tutorial](https://compwa-org.readthedocs.io/report/020.html)):"
   ]
  },
  {
   "cell_type": "code",
   "execution_count": 16,
   "id": "b8285235-0b05-4fd9-b7bb-92fed412d18c",
   "metadata": {
    "slideshow": {
     "slide_type": "fragment"
    }
   },
   "outputs": [
    {
     "name": "stderr",
     "output_type": "stream",
     "text": [
      "/home/rembserj/spaces/master/install/lib/ROOT/_facade.py:154: TqdmWarning: IProgress not found. Please update jupyter and ipywidgets. See https://ipywidgets.readthedocs.io/en/stable/user_install.html\n",
      "  return _orig_ihook(name, *args, **kwds)\n",
      "Propagating quantum numbers: 100%|███████████████████████████████████████████████████████████████████████████| 16/16 [00:00<00:00, 18.63it/s]\n"
     ]
    }
   ],
   "source": [
    "import qrules\n",
    "\n",
    "reaction = qrules.generate_transitions(\n",
    "    initial_state=(\"J/psi(1S)\", [-1, +1]),\n",
    "    final_state=[\"gamma\", \"pi0\", \"pi0\"],\n",
    "    allowed_intermediate_particles=[\"f(0)\"],\n",
    "    allowed_interaction_types=[\"strong\", \"EM\"],\n",
    "    formalism=\"helicity\",\n",
    ")"
   ]
  },
  {
   "cell_type": "markdown",
   "id": "13265db4",
   "metadata": {
    "slideshow": {
     "slide_type": "slide"
    }
   },
   "source": [
    "The previous code generated for example the information on the transition from a $J/\\psi$ to $\\pi_0\\pi_0\\gamma$:"
   ]
  },
  {
   "cell_type": "code",
   "execution_count": 17,
   "id": "b58f609c-5b3a-4a52-9951-bb21e274f71d",
   "metadata": {},
   "outputs": [
    {
     "data": {
      "image/svg+xml": [
       "<?xml version=\"1.0\" encoding=\"UTF-8\" standalone=\"no\"?>\n",
       "<!DOCTYPE svg PUBLIC \"-//W3C//DTD SVG 1.1//EN\"\n",
       " \"http://www.w3.org/Graphics/SVG/1.1/DTD/svg11.dtd\">\n",
       "<!-- Generated by graphviz version 9.0.0 (0)\n",
       " -->\n",
       "<!-- Pages: 1 -->\n",
       "<svg width=\"353pt\" height=\"190pt\"\n",
       " viewBox=\"0.00 0.00 353.47 190.00\" xmlns=\"http://www.w3.org/2000/svg\" xmlns:xlink=\"http://www.w3.org/1999/xlink\">\n",
       "<g id=\"graph0\" class=\"graph\" transform=\"scale(1 1) rotate(0) translate(4 186)\">\n",
       "<polygon fill=\"none\" stroke=\"none\" points=\"-4,4 -4,-186 349.47,-186 349.47,4 -4,4\"/>\n",
       "<!-- g0_edge0 -->\n",
       "<g id=\"node1\" class=\"node\">\n",
       "<title>g0_edge0</title>\n",
       "<text text-anchor=\"middle\" x=\"302.22\" y=\"-159.32\" font-family=\"Times,serif\" font-size=\"14.00\">0: gamma</text>\n",
       "</g>\n",
       "<!-- g0_edge1 -->\n",
       "<g id=\"node2\" class=\"node\">\n",
       "<title>g0_edge1</title>\n",
       "<text text-anchor=\"middle\" x=\"302.22\" y=\"-67.33\" font-family=\"Times,serif\" font-size=\"14.00\">1: pi0</text>\n",
       "</g>\n",
       "<!-- g0_edge2 -->\n",
       "<g id=\"node3\" class=\"node\">\n",
       "<title>g0_edge2</title>\n",
       "<text text-anchor=\"middle\" x=\"302.22\" y=\"-13.32\" font-family=\"Times,serif\" font-size=\"14.00\">2: pi0</text>\n",
       "</g>\n",
       "<!-- g0_edge&#45;1 -->\n",
       "<g id=\"node4\" class=\"node\">\n",
       "<title>g0_edge&#45;1</title>\n",
       "<text text-anchor=\"middle\" x=\"38\" y=\"-99.33\" font-family=\"Times,serif\" font-size=\"14.00\">J/psi(1S)</text>\n",
       "</g>\n",
       "<!-- g0_node0 -->\n",
       "<g id=\"node5\" class=\"node\">\n",
       "<title>g0_node0</title>\n",
       "</g>\n",
       "<!-- g0_edge&#45;1&#45;&gt;g0_node0 -->\n",
       "<g id=\"edge1\" class=\"edge\">\n",
       "<title>g0_edge&#45;1&#45;&gt;g0_node0</title>\n",
       "<path fill=\"none\" stroke=\"black\" d=\"M76,-104C93.92,-104 111.84,-104 112.95,-104\"/>\n",
       "</g>\n",
       "<!-- g0_node0&#45;&gt;g0_edge0 -->\n",
       "<g id=\"edge3\" class=\"edge\">\n",
       "<title>g0_node0&#45;&gt;g0_edge0</title>\n",
       "<path fill=\"none\" stroke=\"black\" d=\"M113.72,-104.09C113.76,-106.04 114.66,-137.3 131.72,-150 168.19,-177.16 222.12,-176.71 259.31,-172.04\"/>\n",
       "</g>\n",
       "<!-- g0_node1 -->\n",
       "<g id=\"node6\" class=\"node\">\n",
       "<title>g0_node1</title>\n",
       "</g>\n",
       "<!-- g0_node0&#45;&gt;g0_node1 -->\n",
       "<g id=\"edge2\" class=\"edge\">\n",
       "<title>g0_node0&#45;&gt;g0_node1</title>\n",
       "<path fill=\"none\" stroke=\"black\" d=\"M113.7,-91.04C114.46,-77.48 117.98,-56.77 131.72,-46.5 162.5,-23.48 217.4,-43.65 220.8,-44.94\"/>\n",
       "<text text-anchor=\"middle\" x=\"167.35\" y=\"-137.2\" font-family=\"Times,serif\" font-size=\"14.00\">f(0)(1370)</text>\n",
       "<text text-anchor=\"middle\" x=\"167.35\" y=\"-119.95\" font-family=\"Times,serif\" font-size=\"14.00\">f(0)(1500)</text>\n",
       "<text text-anchor=\"middle\" x=\"167.35\" y=\"-102.7\" font-family=\"Times,serif\" font-size=\"14.00\">f(0)(1710)</text>\n",
       "<text text-anchor=\"middle\" x=\"167.35\" y=\"-85.45\" font-family=\"Times,serif\" font-size=\"14.00\">f(0)(2020)</text>\n",
       "<text text-anchor=\"middle\" x=\"167.35\" y=\"-68.2\" font-family=\"Times,serif\" font-size=\"14.00\">f(0)(500)</text>\n",
       "<text text-anchor=\"middle\" x=\"167.35\" y=\"-50.95\" font-family=\"Times,serif\" font-size=\"14.00\">f(0)(980)</text>\n",
       "</g>\n",
       "<!-- g0_node1&#45;&gt;g0_edge1 -->\n",
       "<g id=\"edge4\" class=\"edge\">\n",
       "<title>g0_node1&#45;&gt;g0_edge1</title>\n",
       "<path fill=\"none\" stroke=\"black\" d=\"M222.03,-45.02C223.47,-45.51 251.84,-55.18 274.21,-62.8\"/>\n",
       "</g>\n",
       "<!-- g0_node1&#45;&gt;g0_edge2 -->\n",
       "<g id=\"edge5\" class=\"edge\">\n",
       "<title>g0_node1&#45;&gt;g0_edge2</title>\n",
       "<path fill=\"none\" stroke=\"black\" d=\"M222.03,-44.98C223.47,-44.49 251.84,-34.82 274.21,-27.2\"/>\n",
       "</g>\n",
       "</g>\n",
       "</svg>\n"
      ],
      "text/plain": [
       "<graphviz.sources.Source at 0x7fb3ec3c8490>"
      ]
     },
     "execution_count": 17,
     "metadata": {},
     "output_type": "execute_result"
    }
   ],
   "source": [
    "import graphviz\n",
    "\n",
    "dot = qrules.io.asdot(reaction, collapse_graphs=True)\n",
    "graphviz.Source(dot)"
   ]
  },
  {
   "cell_type": "markdown",
   "id": "0f3f5698",
   "metadata": {
    "slideshow": {
     "slide_type": "slide"
    }
   },
   "source": [
    "With `ampform`, one can build the SymPy expression "
   ]
  },
  {
   "cell_type": "code",
   "execution_count": 18,
   "id": "0d0b9bbd-1afe-43d1-a46b-423813b99610",
   "metadata": {},
   "outputs": [],
   "source": [
    "import ampform\n",
    "from ampform.dynamics.builder import (\n",
    "    create_non_dynamic_with_ff,\n",
    "    create_relativistic_breit_wigner_with_ff,\n",
    ")\n",
    "\n",
    "model_builder = ampform.get_builder(reaction)\n",
    "model_builder.scalar_initial_state_mass = True\n",
    "model_builder.stable_final_state_ids = [0, 1, 2]\n",
    "model_builder.set_dynamics(\"J/psi(1S)\", create_non_dynamic_with_ff)\n",
    "for name in reaction.get_intermediate_particles().names:\n",
    "    model_builder.set_dynamics(name, create_relativistic_breit_wigner_with_ff)\n",
    "\n",
    "model = model_builder.formulate()"
   ]
  },
  {
   "cell_type": "markdown",
   "id": "122ac6c0",
   "metadata": {
    "slideshow": {
     "slide_type": "fragment"
    }
   },
   "source": [
    "Unfold the expression to closed form:"
   ]
  },
  {
   "cell_type": "code",
   "execution_count": 19,
   "id": "2b8685d8-f3d1-44ed-99a5-2b7742136a42",
   "metadata": {},
   "outputs": [],
   "source": [
    "unfolded_expression = model.expression.doit()"
   ]
  },
  {
   "cell_type": "markdown",
   "id": "26413b6b",
   "metadata": {
    "slideshow": {
     "slide_type": "fragment"
    }
   },
   "source": [
    "**Warning -** Run this cell if you dare, but the huge LaTeX output makes the notebook very slow:"
   ]
  },
  {
   "cell_type": "code",
   "execution_count": 20,
   "id": "bb3cca95-d359-4608-90c0-c0b1b464ac42",
   "metadata": {},
   "outputs": [],
   "source": [
    "# unfolded_expression"
   ]
  },
  {
   "cell_type": "markdown",
   "id": "d160aa7e-911f-4654-8dee-b5cb30dabbcb",
   "metadata": {
    "slideshow": {
     "slide_type": "slide"
    }
   },
   "source": [
    "### Getting the fitting model expression"
   ]
  },
  {
   "cell_type": "code",
   "execution_count": 21,
   "id": "c5b395d5-b92a-4744-a9c1-0e5afd663c9e",
   "metadata": {
    "slideshow": {
     "slide_type": "skip"
    }
   },
   "outputs": [],
   "source": [
    "def make_valid_name(name):\n",
    "    \"\"\"Turn name into valid C++ variable name.\n",
    "    \"\"\"\n",
    "    out = name\n",
    "    for s in [\"\\\\\", \"{\", \"}\", \"(\", \")\", \"^\", \" \", \"/\", \"+\", \";\"]:\n",
    "        out = out.replace(s, \" \")\n",
    "    out = out.strip().replace(\" \", \"_\")\n",
    "    while \"__\" in out:\n",
    "        out = out.replace(\"__\", \"_\")\n",
    "\n",
    "    # To make the variable names a bit simpler in special cases\n",
    "    if out == \"C_J_psi_1S_to_f_0_1500_0_gamma_1_f_0_1500_to_pi_0_0_pi_0_0\":\n",
    "        return \"C\"\n",
    "    \n",
    "    return out"
   ]
  },
  {
   "cell_type": "code",
   "execution_count": 22,
   "id": "e8db629a-5d36-4b29-b87a-16db3374f010",
   "metadata": {
    "slideshow": {
     "slide_type": "skip"
    }
   },
   "outputs": [],
   "source": [
    "initial_parameters = {\n",
    "    R\"C_{J/\\psi(1S) \\to {f_{0}(1500)}_{0} \\gamma_{+1}; f_{0}(1500) \\to \\pi^{0}_{0} \\pi^{0}_{0}}\": 1.0,\n",
    "    \"m_{f_{0}(500)}\": 0.4,\n",
    "    \"m_{f_{0}(980)}\": 0.88,\n",
    "    \"m_{f_{0}(1370)}\": 1.22,\n",
    "    \"m_{f_{0}(1500)}\": 1.45,\n",
    "    \"m_{f_{0}(1710)}\": 1.83,\n",
    "    R\"\\Gamma_{f_{0}(500)}\": 0.3,\n",
    "    R\"\\Gamma_{f_{0}(980)}\": 0.1,\n",
    "    R\"\\Gamma_{f_{0}(1710)}\": 0.3,\n",
    "}"
   ]
  },
  {
   "cell_type": "code",
   "execution_count": 23,
   "id": "7a4c695d-55b6-45a1-9b87-03066dc9386e",
   "metadata": {
    "slideshow": {
     "slide_type": "skip"
    }
   },
   "outputs": [],
   "source": [
    "new_param_names = {}\n",
    "new_param_defaults = {}\n",
    "fixed_parameters = {}\n",
    "\n",
    "for key, val in model.parameter_defaults.items():\n",
    "    name = str(key)\n",
    "    if name not in initial_parameters:\n",
    "        fixed_parameters[key] = val\n",
    "    else:\n",
    "        new_name = make_valid_name(name)\n",
    "        new_param_names[key] = sp.symbols(new_name)\n",
    "        new_param_defaults[key] = initial_parameters[name]\n",
    "        \n",
    "replacements = {**new_param_names, **fixed_parameters}"
   ]
  },
  {
   "cell_type": "markdown",
   "id": "bcddac31",
   "metadata": {},
   "source": [
    "To get the expression for fitting, we rename the parameter symbols to something that is valid in RooFit (valid C++ variable names).\n",
    "\n",
    "The code to get `replacements` is skipped in presentation mode because it's not so interesting."
   ]
  },
  {
   "cell_type": "code",
   "execution_count": 24,
   "id": "ca4482a8-e549-41d3-8fdd-4acf53caf12d",
   "metadata": {},
   "outputs": [],
   "source": [
    "fitting_expression = unfolded_expression.xreplace(replacements)"
   ]
  },
  {
   "cell_type": "markdown",
   "id": "95c2c6fc",
   "metadata": {
    "slideshow": {
     "slide_type": "fragment"
    }
   },
   "source": [
    "Check that the list of parameters looks good:"
   ]
  },
  {
   "cell_type": "code",
   "execution_count": 25,
   "id": "a7a4380a-125e-4f42-ac82-dcd18061126c",
   "metadata": {},
   "outputs": [
    {
     "data": {
      "text/plain": [
       "{C,\n",
       " Gamma_f_0_1710,\n",
       " Gamma_f_0_500,\n",
       " Gamma_f_0_980,\n",
       " m_12,\n",
       " m_f_0_1370,\n",
       " m_f_0_1500,\n",
       " m_f_0_1710,\n",
       " m_f_0_500,\n",
       " m_f_0_980,\n",
       " phi_0,\n",
       " theta_0}"
      ]
     },
     "execution_count": 25,
     "metadata": {},
     "output_type": "execute_result"
    }
   ],
   "source": [
    "fitting_expression.free_symbols"
   ]
  },
  {
   "cell_type": "markdown",
   "id": "76c74dbf",
   "metadata": {
    "slideshow": {
     "slide_type": "slide"
    }
   },
   "source": [
    "### Getting the C code"
   ]
  },
  {
   "cell_type": "markdown",
   "id": "f1365f45",
   "metadata": {},
   "source": [
    "Just like in the simple example, we can now get the C code for this expression:"
   ]
  },
  {
   "cell_type": "code",
   "execution_count": 26,
   "id": "d278aeed-f074-41b1-9791-6df50fbe3bde",
   "metadata": {
    "slideshow": {
     "slide_type": "-"
    }
   },
   "outputs": [],
   "source": [
    "c_code = sp.ccode(fitting_expression)"
   ]
  },
  {
   "cell_type": "code",
   "execution_count": 27,
   "id": "23840882",
   "metadata": {
    "slideshow": {
     "slide_type": "fragment"
    }
   },
   "outputs": [
    {
     "data": {
      "text/plain": [
       "'pow(fabs(0.16723260000000001*M_SQRT2*C*m_f_0_1500*((1.0/2.0)*cos(theta_0) - 1.0/2.0)*exp(-I*phi_0)*fabs(0.10426670176951153*pow(m_12, 2) - 1)/(sqrt(0.026066675442377885*(91.983245343283983*pow(1 - 0.10426670176951153*pow(m_12, 2), 2)) + 1)*(pow(m_12, 2) - pow(m_f_0_1500, 2) + 0.108*I*pow(m_f_0_1500, 2)*sqrt(pow(m_12, 2) - 0.072874946152960002)/(m_12*sqrt(pow(m_f_0_1500, 2) - 0.072874946152960002)))) + 1.5484500000000003*M_SQRT2*Gamma_f_0_1710*m_f_0_1710*((1.0/2.0)*cos(theta_0) - 1.0/2.0)*exp(-I*phi_0)*fabs(0.10426670176951153*pow(m_12, 2) - 1)/(sqrt(0.026066675442377885*(91.983245343283983*pow(1 - 0.10426670176951153*pow(m_12, 2), 2)) + 1)*(I*Gamma_f_0_1710*pow(m_f_0_1710, 2)*sqrt(pow(m_12, 2) - 0.072874946152960002)/(m_12*sqrt(pow(m_f_0_1710, 2) - 0.072874946152960002)) + pow(m_12, 2) - pow(m_f_0_1710, 2))) + 1.5484500000000003*M_SQRT2*Gamma_f_0_500*m_f_0_500*((1.0/2.0)*cos(theta_0) - 1.0/2.0)*exp(-I*phi_0)*fabs(0.10426670176951153*pow(m_12, 2) - 1)/(sqrt(0.026066675442377885*(91.983245343283983*pow(1 - 0.10426670176951153*pow(m_12, 2), 2)) + 1)*(I*Gamma_f_0_500*pow(m_f_0_500, 2)*sqrt(pow(m_12, 2) - 0.072874946152960002)/(m_12*sqrt(pow(m_f_0_500, 2) - 0.072874946152960002)) + pow(m_12, 2) - pow(m_f_0_500, 2))) + 1.5484500000000003*M_SQRT2*Gamma_f_0_980*m_f_0_980*((1.0/2.0)*cos(theta_0) - 1.0/2.0)*exp(-I*phi_0)*fabs(0.10426670176951153*pow(m_12, 2) - 1)/(sqrt(0.026066675442377885*(91.983245343283983*pow(1 - 0.10426670176951153*pow(m_12, 2), 2)) + 1)*(I*Gamma_f_0_980*pow(m_f_0_980, 2)*sqrt(pow(m_12, 2) - 0.072874946152960002)/(m_12*sqrt(pow(m_f_0_980, 2) - 0.072874946152960002)) + pow(m_12, 2) - pow(m_f_0_980, 2))) + 0.54195750000000009*M_SQRT2*m_f_0_1370*((1.0/2.0)*cos(theta_0) - 1.0/2.0)*exp(-I*phi_0)*fabs(0.10426670176951153*pow(m_12, 2) - 1)/(sqrt(0.026066675442377885*(91.983245343283983*pow(1 - 0.10426670176951153*pow(m_12, 2), 2)) + 1)*(pow(m_12, 2) - pow(m_f_0_1370, 2) + 0.34999999999999998*I*pow(m_f_0_1370, 2)*sqrt(pow(m_12, 2) - 0.072874946152960002)/(m_12*s...'"
      ]
     },
     "execution_count": 27,
     "metadata": {},
     "output_type": "execute_result"
    }
   ],
   "source": [
    "c_code[:2000] + \"...\""
   ]
  },
  {
   "cell_type": "code",
   "execution_count": 28,
   "id": "cc2ae32d",
   "metadata": {
    "slideshow": {
     "slide_type": "fragment"
    }
   },
   "outputs": [
    {
     "data": {
      "text/plain": [
       "9521"
      ]
     },
     "execution_count": 28,
     "metadata": {},
     "output_type": "execute_result"
    }
   ],
   "source": [
    "len(c_code)"
   ]
  },
  {
   "cell_type": "markdown",
   "id": "8943cb8c",
   "metadata": {
    "slideshow": {
     "slide_type": "fragment"
    }
   },
   "source": [
    "**Important note:** The code contains the imaginary unit `I`! The `RooClassFactory` will only support this with the upcoming ROOT version 6.30."
   ]
  },
  {
   "cell_type": "markdown",
   "id": "3423391e",
   "metadata": {
    "slideshow": {
     "slide_type": "slide"
    }
   },
   "source": [
    "### Setting up the RooFit workspace"
   ]
  },
  {
   "cell_type": "markdown",
   "id": "9c73aa96",
   "metadata": {},
   "source": [
    "Populate the workspace with observables:"
   ]
  },
  {
   "cell_type": "code",
   "execution_count": 29,
   "id": "845d27aa-06b8-4db5-8e0d-c67381a36d3c",
   "metadata": {
    "slideshow": {
     "slide_type": "-"
    }
   },
   "outputs": [],
   "source": [
    "ws_2 = ROOT.RooWorkspace()\n",
    "m_12 = ws_2.factory(\"m_12[0.4, 3.]\")\n",
    "phi_0 = ws_2.factory(\"phi_0[0., 2. * M_PI]\")\n",
    "theta_0 = ws_2.factory(\"theta_0[0., 2. * M_PI]\")\n",
    "\n",
    "m_12.setConstant()\n",
    "phi_0.setConstant()\n",
    "theta_0.setConstant()"
   ]
  },
  {
   "cell_type": "markdown",
   "id": "f9a24d33",
   "metadata": {
    "slideshow": {
     "slide_type": "fragment"
    }
   },
   "source": [
    "Define parameters with limits for the minimizer that are a factor two away from the nominal value:"
   ]
  },
  {
   "cell_type": "code",
   "execution_count": 30,
   "id": "762538cb",
   "metadata": {},
   "outputs": [],
   "source": [
    "params = []\n",
    "\n",
    "for key, val in new_param_defaults.items():\n",
    "    name = str(new_param_names[key])\n",
    "    def_val = new_param_defaults[key]\n",
    "    params.append(ws_2.factory(f\"{name}[{def_val}, {def_val * 0.5}, {def_val * 2}]\"))"
   ]
  },
  {
   "cell_type": "markdown",
   "id": "67db30be",
   "metadata": {
    "slideshow": {
     "slide_type": "slide"
    }
   },
   "source": [
    "Create the custom pdf:"
   ]
  },
  {
   "cell_type": "code",
   "execution_count": 31,
   "id": "30d7c74e",
   "metadata": {},
   "outputs": [
    {
     "name": "stderr",
     "output_type": "stream",
     "text": [
      "Info in <TUnixSystem::ACLiC>: creating shared library /home/rembserj/tmp/pyhep/roofit-pyhep-2023-talk/RooGenpdfPdf_cxx.so\n"
     ]
    }
   ],
   "source": [
    "genpdf = ROOT.RooClassFactory.makePdfInstance(\"genpdf\", c_code, [m_12, phi_0, theta_0, *params])"
   ]
  },
  {
   "cell_type": "markdown",
   "id": "e33d5eba",
   "metadata": {},
   "source": [
    "**Note:** ROOT 6.30 improves how the `RooClassFactory` behave in a notebook! The cell above can now be re-run without crashing."
   ]
  },
  {
   "cell_type": "code",
   "execution_count": 32,
   "id": "27be7f66-486f-4615-81b6-c1f351c05c57",
   "metadata": {
    "slideshow": {
     "slide_type": "fragment"
    }
   },
   "outputs": [],
   "source": [
    "ws_2.Import(genpdf);"
   ]
  },
  {
   "cell_type": "markdown",
   "id": "87518ebb",
   "metadata": {
    "slideshow": {
     "slide_type": "fragment"
    }
   },
   "source": [
    "Let's make this example a bit more interesting by doing the convolution of the intensity with a Gaussian **resolution function**:"
   ]
  },
  {
   "cell_type": "code",
   "execution_count": 33,
   "id": "626ac723-d7e7-44fd-90bc-d61affc6cb9d",
   "metadata": {},
   "outputs": [],
   "source": [
    "ws_2.factory(\"Gaussian::resolution(m_12, 0.0, sigma[0.1, 0.001, 0.05])\");\n",
    "ws_2[\"m_12\"].setBins(1000, \"cache\") # number of sampling bins for convolution\n",
    "\n",
    "ws_2.factory(\"RooFFTConvPdf::convpdf(m_12, genpdf, resolution)\");"
   ]
  },
  {
   "cell_type": "code",
   "execution_count": 34,
   "id": "aeeb0efb",
   "metadata": {
    "slideshow": {
     "slide_type": "slide"
    }
   },
   "outputs": [
    {
     "name": "stdout",
     "output_type": "stream",
     "text": [
      "\n",
      "RooWorkspace()  contents\n",
      "\n",
      "variables\n",
      "---------\n",
      "(C,Gamma_f_0_1710,Gamma_f_0_500,Gamma_f_0_980,m_12,m_f_0_1370,m_f_0_1500,m_f_0_1710,m_f_0_500,m_f_0_980,phi_0,sigma,theta_0)\n",
      "\n",
      "p.d.f.s\n",
      "-------\n",
      "RooFFTConvPdf::convpdf[ genpdf(m_12) (*) resolution(m_12) ] = 6.14111e+07\n",
      "RooGenpdfPdf::genpdf[ m_12=m_12 phi_0=phi_0 theta_0=theta_0 m_f_0_500=m_f_0_500 Gamma_f_0_500=Gamma_f_0_500 m_f_0_980=m_f_0_980 Gamma_f_0_980=Gamma_f_0_980 m_f_0_1370=m_f_0_1370 m_f_0_1500=m_f_0_1500 C=C m_f_0_1710=m_f_0_1710 Gamma_f_0_1710=Gamma_f_0_1710 ] = 2.04151\n",
      "RooGaussian::resolution[ x=m_12 mean=0 sigma=sigma ] = 9.50144e-252\n",
      "\n",
      "named sets\n",
      "----------\n",
      "\n",
      "embedded precalculated expensive components\n",
      "-------------------------------------------\n",
      "uid = 0 key=convpdf_genpdf_CONV_resolution_CACHEHIST_Obs[m_12]_BufFrac0.1_BufStrat0 value=RooDataHist::convpdf_genpdf_CONV_resolution_CACHEHIST_Obs[m_12]_BufFrac0.1_BufStrat0 parameters=( C=1 Gamma_f_0_1710=0.3 Gamma_f_0_500=0.3 Gamma_f_0_980=0.1 m_f_0_1370=1.22 m_f_0_1500=1.45 m_f_0_1710=1.83 m_f_0_500=0.4 m_f_0_980=0.88 phi_0=1 sigma=0.05 theta_0=1 )\n"
     ]
    }
   ],
   "source": [
    "ws_2.Print()"
   ]
  },
  {
   "cell_type": "markdown",
   "id": "c5a5d2ff",
   "metadata": {
    "slideshow": {
     "slide_type": "slide"
    }
   },
   "source": [
    "### Generating toy dataset and do plotting"
   ]
  },
  {
   "cell_type": "markdown",
   "id": "3963b79c",
   "metadata": {},
   "source": [
    "**Warning -** The toy dataset that is created here does not necessarily make physical sense, because it is not produced with the correctly-constrained phase space sampling.\n",
    "\n",
    "But for demonstrating that RooFit can handle complicated SymPy expressions it should not bother us."
   ]
  },
  {
   "cell_type": "code",
   "execution_count": 35,
   "id": "efe46fd1-7a97-4359-a930-578b150f7284",
   "metadata": {
    "slideshow": {
     "slide_type": "fragment"
    }
   },
   "outputs": [],
   "source": [
    "data = ws_2[\"convpdf\"].generate(m_12, 10000)"
   ]
  },
  {
   "cell_type": "code",
   "execution_count": 36,
   "id": "092a9039-6161-45b8-95b2-9094cc3a30bc",
   "metadata": {
    "slideshow": {
     "slide_type": "fragment"
    }
   },
   "outputs": [
    {
     "data": {
      "image/png": "[encoded data removed]",
      "text/plain": [
       "<IPython.core.display.Image object>"
      ]
     },
     "metadata": {},
     "output_type": "display_data"
    }
   ],
   "source": [
    "frame = m_12.frame()\n",
    "data.plotOn(frame)\n",
    "ws_2[\"genpdf\"].plotOn(frame, LineStyle=\"--\") # no Gaussian convolution\n",
    "ws_2[\"convpdf\"].plotOn(frame) # with Gaussian convolution\n",
    "frame.Draw()\n",
    "ROOT.gPad.Draw()"
   ]
  },
  {
   "cell_type": "markdown",
   "id": "50e32751",
   "metadata": {
    "slideshow": {
     "slide_type": "slide"
    }
   },
   "source": [
    "### Fitting"
   ]
  },
  {
   "cell_type": "markdown",
   "id": "4137e861",
   "metadata": {},
   "source": [
    "Here, we can't use the `\"codegen\"` backend yet because it doesn't support complex numbers for the gradient."
   ]
  },
  {
   "cell_type": "code",
   "execution_count": 37,
   "id": "93cfb98d-e783-41cf-b6c1-de5a4929da7f",
   "metadata": {
    "slideshow": {
     "slide_type": "-"
    }
   },
   "outputs": [
    {
     "name": "stdout",
     "output_type": "stream",
     "text": [
      "CPU times: user 5.11 s, sys: 26 ms, total: 5.14 s\n",
      "Wall time: 5.13 s\n"
     ]
    }
   ],
   "source": [
    "%%time\n",
    "result = ws_2[\"convpdf\"].fitTo(data, Save=True, PrintLevel=-1)"
   ]
  },
  {
   "cell_type": "code",
   "execution_count": 38,
   "id": "437999eb-ed38-4171-8254-4dd7dc0e5210",
   "metadata": {
    "slideshow": {
     "slide_type": "fragment"
    }
   },
   "outputs": [
    {
     "name": "stdout",
     "output_type": "stream",
     "text": [
      "\n",
      "  RooFitResult: minimized FCN value: 6833.63, estimated distance to minimum: 0.000281161\n",
      "                covariance matrix quality: Full, accurate covariance matrix\n",
      "                Status : MINIMIZE=0 HESSE=0 \n",
      "\n",
      "    Floating Parameter    FinalValue +/-  Error   \n",
      "  --------------------  --------------------------\n",
      "                     C    1.0399e+00 +/-  4.80e-02\n",
      "        Gamma_f_0_1710    3.1668e-01 +/-  2.37e-02\n",
      "         Gamma_f_0_500    3.2823e-01 +/-  4.34e-02\n",
      "         Gamma_f_0_980    9.5062e-02 +/-  7.10e-03\n",
      "            m_f_0_1370    1.2161e+00 +/-  8.21e-03\n",
      "            m_f_0_1500    1.4430e+00 +/-  4.64e-03\n",
      "            m_f_0_1710    1.8365e+00 +/-  6.09e-03\n",
      "             m_f_0_500    3.9585e-01 +/-  9.30e-03\n",
      "             m_f_0_980    8.7995e-01 +/-  4.43e-03\n",
      "                 sigma    5.0000e-02 +/-  3.13e-02\n",
      "\n"
     ]
    }
   ],
   "source": [
    "result.Print()"
   ]
  },
  {
   "cell_type": "markdown",
   "id": "d34ee7a9",
   "metadata": {
    "slideshow": {
     "slide_type": "fragment"
    }
   },
   "source": [
    "Successfully converges in reasonable time."
   ]
  },
  {
   "cell_type": "markdown",
   "id": "7c5a55e2",
   "metadata": {
    "slideshow": {
     "slide_type": "slide"
    }
   },
   "source": [
    "### Conclusions and possible next steps"
   ]
  },
  {
   "cell_type": "markdown",
   "id": "da376f51",
   "metadata": {},
   "source": [
    "**Conclustions:**\n",
    "\n",
    "* **SymPy** is a quite useful to define expressions that can be used in many contexts, e.g. exported to TensorFlow/JAX for Python libraries, or exported to C for **RooFit**\n",
    "* RooFit can deal with complex SymPy expressions, like the ones used in amplitude analysis\n",
    "* Lots of opportunities to mix and match tools according to the physicist needs!"
   ]
  },
  {
   "cell_type": "markdown",
   "id": "0739c6d9",
   "metadata": {
    "slideshow": {
     "slide_type": "fragment"
    }
   },
   "source": [
    "**Possible next steps for RooFit**\n",
    "\n",
    "* Also generate and compile a **CUDA** Kernel with the code\n",
    "  * Could be implemented if needed, but ROOT does not have the tools to compile CUDA on the fly yet\n",
    "* Make the `RooClassFactory` interfaces more pythonic"
   ]
  },
  {
   "cell_type": "markdown",
   "id": "13973517",
   "metadata": {
    "slideshow": {
     "slide_type": "fragment"
    }
   },
   "source": [
    "Thanks for you attention! Please reach out to me if you have more ideas about these developments."
   ]
  }
 ],
 "metadata": {
  "celltoolbar": "Slideshow",
  "kernelspec": {
   "display_name": "defaultenv",
   "language": "python",
   "name": "defaultenv"
  },
  "language_info": {
   "codemirror_mode": {
    "name": "ipython",
    "version": 3
   },
   "file_extension": ".py",
   "mimetype": "text/x-python",
   "name": "python",
   "nbconvert_exporter": "python",
   "pygments_lexer": "ipython3",
   "version": "3.11.5"
  }
 },
 "nbformat": 4,
 "nbformat_minor": 5
}
